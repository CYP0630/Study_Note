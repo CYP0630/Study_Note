{
 "cells": [
  {
   "cell_type": "code",
   "execution_count": 1,
   "metadata": {},
   "outputs": [
    {
     "name": "stderr",
     "output_type": "stream",
     "text": [
      "Using TensorFlow backend.\n"
     ]
    }
   ],
   "source": [
    "from keras.applications import VGG16\n",
    "\n",
    "conv_base = VGG16(weights='imagenet',\n",
    "                  include_top=False,\n",
    "                  input_shape=(150, 150, 3))"
   ]
  },
  {
   "cell_type": "code",
   "execution_count": 2,
   "metadata": {},
   "outputs": [],
   "source": [
    "import os\n",
    "import numpy as np\n",
    "from keras.preprocessing.image import ImageDataGenerator"
   ]
  },
  {
   "cell_type": "code",
   "execution_count": 3,
   "metadata": {},
   "outputs": [],
   "source": [
    "base_dir = '/home/cyp/Documents/Dataset/cat_dog_small/'\n",
    "train_dir = os.path.join(base_dir, 'train')\n",
    "val_dir = os.path.join(base_dir, 'val')\n",
    "test_dir = os.path.join(base_dir, 'test')\n",
    "\n",
    "datagen = ImageDataGenerator(rescale=1./255)\n",
    "batch_size = 20"
   ]
  },
  {
   "cell_type": "code",
   "execution_count": 11,
   "metadata": {},
   "outputs": [
    {
     "name": "stdout",
     "output_type": "stream",
     "text": [
      "Found 2000 images belonging to 2 classes.\n",
      "Found 1000 images belonging to 2 classes.\n",
      "Found 1000 images belonging to 2 classes.\n"
     ]
    }
   ],
   "source": [
    "from glob import glob\n",
    "\n",
    "def clean_directory(dir_path, ext=\".jpg\"):\n",
    "    files = glob(os.path.join(dir_path, \".*\" + ext))  # this line find all files witch starts with . and ends with given extension\n",
    "    for file_path in files:\n",
    "        os.remove(file_path)\n",
    "\n",
    "def extract_features(directory, sample_count):\n",
    "    features = np.zeros(shape=(sample_count, 4, 4, 512))\n",
    "    labels = np.zeros(shape=(sample_count))\n",
    "    generator = datagen.flow_from_directory(\n",
    "                directory,\n",
    "                target_size = (150, 150),\n",
    "                batch_size = batch_size,\n",
    "                class_mode = 'binary')\n",
    "    i = 0\n",
    "    for inputs_batch, labels_batch in generator:\n",
    "        features_batch = conv_base.predict(inputs_batch)\n",
    "        features[i * batch_size : (i+1) * batch_size] = features_batch\n",
    "        labels[i* batch_size : (i+1) * batch_size] = labels_batch\n",
    "        i += 1\n",
    "        if i * batch_size >= sample_count:\n",
    "            break\n",
    "    \n",
    "    return features, labels \n",
    "\n",
    "clean_directory(test_dir, ext = '.jpg')\n",
    "\n",
    "train_features, train_labels = extract_features(train_dir, 2000)\n",
    "val_features, validation_labels = extract_features(val_dir, 1000)\n",
    "test_features, test_labels = extract_features(val_dir, 1000)\n",
    "\n",
    "train_features = np.reshape(train_features, (2000, 4 * 4 * 512))\n",
    "val_features = np.reshape(val_features, (1000, 4 * 4 * 512))\n",
    "test_features = np.reshape(test_features, (1000, 4 * 4 * 512))"
   ]
  },
  {
   "cell_type": "code",
   "execution_count": 15,
   "metadata": {},
   "outputs": [
    {
     "name": "stdout",
     "output_type": "stream",
     "text": [
      "Train on 2000 samples, validate on 1000 samples\n",
      "Epoch 1/30\n",
      "2000/2000 [==============================] - 1s 447us/step - loss: 0.5958 - acc: 0.6805 - val_loss: 0.4320 - val_acc: 0.8340\n",
      "Epoch 2/30\n",
      "2000/2000 [==============================] - 1s 336us/step - loss: 0.4354 - acc: 0.8015 - val_loss: 0.3609 - val_acc: 0.8630\n",
      "Epoch 3/30\n",
      "2000/2000 [==============================] - 1s 345us/step - loss: 0.3529 - acc: 0.8595 - val_loss: 0.3324 - val_acc: 0.8510\n",
      "Epoch 4/30\n",
      "2000/2000 [==============================] - 1s 352us/step - loss: 0.3206 - acc: 0.8770 - val_loss: 0.2978 - val_acc: 0.8820\n",
      "Epoch 5/30\n",
      "2000/2000 [==============================] - 1s 337us/step - loss: 0.2977 - acc: 0.8785 - val_loss: 0.2903 - val_acc: 0.8850\n",
      "Epoch 6/30\n",
      "2000/2000 [==============================] - 1s 329us/step - loss: 0.2624 - acc: 0.8965 - val_loss: 0.2737 - val_acc: 0.8950\n",
      "Epoch 7/30\n",
      "2000/2000 [==============================] - 1s 317us/step - loss: 0.2545 - acc: 0.8960 - val_loss: 0.2664 - val_acc: 0.8970\n",
      "Epoch 8/30\n",
      "2000/2000 [==============================] - 1s 313us/step - loss: 0.2309 - acc: 0.9150 - val_loss: 0.2607 - val_acc: 0.8990\n",
      "Epoch 9/30\n",
      "2000/2000 [==============================] - 1s 331us/step - loss: 0.2186 - acc: 0.9180 - val_loss: 0.2785 - val_acc: 0.8750\n",
      "Epoch 10/30\n",
      "2000/2000 [==============================] - 1s 342us/step - loss: 0.2130 - acc: 0.9135 - val_loss: 0.2505 - val_acc: 0.8990\n",
      "Epoch 11/30\n",
      "2000/2000 [==============================] - 1s 336us/step - loss: 0.1985 - acc: 0.9260 - val_loss: 0.2498 - val_acc: 0.9010\n",
      "Epoch 12/30\n",
      "2000/2000 [==============================] - 1s 360us/step - loss: 0.1894 - acc: 0.9260 - val_loss: 0.2456 - val_acc: 0.9010\n",
      "Epoch 13/30\n",
      "2000/2000 [==============================] - 1s 307us/step - loss: 0.1854 - acc: 0.9265 - val_loss: 0.2431 - val_acc: 0.9000\n",
      "Epoch 14/30\n",
      "2000/2000 [==============================] - 1s 315us/step - loss: 0.1700 - acc: 0.9420 - val_loss: 0.2422 - val_acc: 0.9010\n",
      "Epoch 15/30\n",
      "2000/2000 [==============================] - 1s 335us/step - loss: 0.1688 - acc: 0.9360 - val_loss: 0.2452 - val_acc: 0.9040\n",
      "Epoch 16/30\n",
      "2000/2000 [==============================] - 1s 349us/step - loss: 0.1557 - acc: 0.9420 - val_loss: 0.2470 - val_acc: 0.9050\n",
      "Epoch 17/30\n",
      "2000/2000 [==============================] - 1s 343us/step - loss: 0.1519 - acc: 0.9430 - val_loss: 0.2442 - val_acc: 0.9020\n",
      "Epoch 18/30\n",
      "2000/2000 [==============================] - 1s 345us/step - loss: 0.1428 - acc: 0.9530 - val_loss: 0.2384 - val_acc: 0.9020\n",
      "Epoch 19/30\n",
      "2000/2000 [==============================] - 1s 349us/step - loss: 0.1366 - acc: 0.9550 - val_loss: 0.2370 - val_acc: 0.9010\n",
      "Epoch 20/30\n",
      "2000/2000 [==============================] - 1s 341us/step - loss: 0.1345 - acc: 0.9525 - val_loss: 0.2455 - val_acc: 0.9020\n",
      "Epoch 21/30\n",
      "2000/2000 [==============================] - 1s 342us/step - loss: 0.1269 - acc: 0.9535 - val_loss: 0.2477 - val_acc: 0.9030\n",
      "Epoch 22/30\n",
      "2000/2000 [==============================] - 1s 344us/step - loss: 0.1176 - acc: 0.9600 - val_loss: 0.2369 - val_acc: 0.9040\n",
      "Epoch 23/30\n",
      "2000/2000 [==============================] - 1s 351us/step - loss: 0.1190 - acc: 0.9590 - val_loss: 0.2437 - val_acc: 0.9030\n",
      "Epoch 24/30\n",
      "2000/2000 [==============================] - 1s 355us/step - loss: 0.1158 - acc: 0.9610 - val_loss: 0.2366 - val_acc: 0.9040\n",
      "Epoch 25/30\n",
      "2000/2000 [==============================] - 1s 340us/step - loss: 0.1073 - acc: 0.9645 - val_loss: 0.2414 - val_acc: 0.9060\n",
      "Epoch 26/30\n",
      "2000/2000 [==============================] - 1s 341us/step - loss: 0.1105 - acc: 0.9590 - val_loss: 0.2390 - val_acc: 0.9030\n",
      "Epoch 27/30\n",
      "2000/2000 [==============================] - 1s 347us/step - loss: 0.1018 - acc: 0.9695 - val_loss: 0.2386 - val_acc: 0.9040\n",
      "Epoch 28/30\n",
      "2000/2000 [==============================] - 1s 344us/step - loss: 0.0989 - acc: 0.9660 - val_loss: 0.2436 - val_acc: 0.9060\n",
      "Epoch 29/30\n",
      "2000/2000 [==============================] - 1s 345us/step - loss: 0.0935 - acc: 0.9710 - val_loss: 0.2403 - val_acc: 0.9020\n",
      "Epoch 30/30\n",
      "2000/2000 [==============================] - 1s 342us/step - loss: 0.0931 - acc: 0.9695 - val_loss: 0.2442 - val_acc: 0.9050\n"
     ]
    }
   ],
   "source": [
    "from keras import models\n",
    "from keras import layers\n",
    "from keras import optimizers\n",
    "\n",
    "model = models.Sequential()\n",
    "model.add(layers.Dense(256, activation='relu', input_dim=4 * 4 * 512))\n",
    "model.add(layers.Dropout(0.5))\n",
    "model.add(layers.Dense(1, activation='sigmoid'))\n",
    "model.compile(optimizer=optimizers.RMSprop(lr=2e-5),\n",
    "              loss='binary_crossentropy',\n",
    "              metrics=['acc'])\n",
    "history = model.fit(train_features, train_labels,\n",
    "                    epochs=30,\n",
    "                    batch_size=20,\n",
    "                    validation_data=(val_features, validation_labels))"
   ]
  },
  {
   "cell_type": "code",
   "execution_count": 16,
   "metadata": {},
   "outputs": [
    {
     "data": {
      "image/png": "[encoded data removed]",
      "text/plain": [
       "<Figure size 432x288 with 1 Axes>"
      ]
     },
     "metadata": {
      "needs_background": "light"
     },
     "output_type": "display_data"
    },
    {
     "data": {
      "image/png": "[encoded data removed]",
      "text/plain": [
       "<Figure size 432x288 with 1 Axes>"
      ]
     },
     "metadata": {
      "needs_background": "light"
     },
     "output_type": "display_data"
    }
   ],
   "source": [
    "import matplotlib.pyplot as plt\n",
    "acc = history.history['acc']\n",
    "val_acc = history.history['val_acc']\n",
    "loss = history.history['loss']\n",
    "val_loss = history.history['val_loss']\n",
    "epochs = range(1, len(acc) + 1)\n",
    "plt.plot(epochs, acc, 'bo', label='Training acc')\n",
    "plt.plot(epochs, val_acc, 'b', label='Validation acc')\n",
    "plt.title('Training and validation accuracy')\n",
    "plt.figure()\n",
    "plt.plot(epochs, loss, 'bo', label='Training loss')\n",
    "plt.plot(epochs, val_loss, 'b', label='Validation loss')\n",
    "plt.title('Training and validation loss')\n",
    "plt.show()"
   ]
  },
  {
   "cell_type": "code",
   "execution_count": 18,
   "metadata": {},
   "outputs": [
    {
     "name": "stdout",
     "output_type": "stream",
     "text": [
      "Model: \"sequential_2\"\n",
      "_________________________________________________________________\n",
      "Layer (type)                 Output Shape              Param #   \n",
      "=================================================================\n",
      "dense_3 (Dense)              (None, 256)               2097408   \n",
      "_________________________________________________________________\n",
      "dropout_2 (Dropout)          (None, 256)               0         \n",
      "_________________________________________________________________\n",
      "dense_4 (Dense)              (None, 1)                 257       \n",
      "=================================================================\n",
      "Total params: 2,097,665\n",
      "Trainable params: 2,097,665\n",
      "Non-trainable params: 0\n",
      "_________________________________________________________________\n"
     ]
    }
   ],
   "source": [
    "model.summary()"
   ]
  },
  {
   "cell_type": "code",
   "execution_count": 19,
   "metadata": {},
   "outputs": [],
   "source": [
    "model = models.Sequential()\n",
    "model.add(conv_base)\n",
    "model.add(layers.Flatten())\n",
    "model.add(layers.Dense(256, activation='relu'))\n",
    "model.add(layers.Dense(1, activation='sigmoid'))"
   ]
  },
  {
   "cell_type": "code",
   "execution_count": 20,
   "metadata": {},
   "outputs": [
    {
     "name": "stdout",
     "output_type": "stream",
     "text": [
      "Model: \"sequential_3\"\n",
      "_________________________________________________________________\n",
      "Layer (type)                 Output Shape              Param #   \n",
      "=================================================================\n",
      "vgg16 (Model)                (None, 4, 4, 512)         14714688  \n",
      "_________________________________________________________________\n",
      "flatten_1 (Flatten)          (None, 8192)              0         \n",
      "_________________________________________________________________\n",
      "dense_5 (Dense)              (None, 256)               2097408   \n",
      "_________________________________________________________________\n",
      "dense_6 (Dense)              (None, 1)                 257       \n",
      "=================================================================\n",
      "Total params: 16,812,353\n",
      "Trainable params: 16,812,353\n",
      "Non-trainable params: 0\n",
      "_________________________________________________________________\n"
     ]
    }
   ],
   "source": [
    "model.summary()"
   ]
  },
  {
   "cell_type": "code",
   "execution_count": 21,
   "metadata": {},
   "outputs": [],
   "source": [
    "conv_base.trainable = False"
   ]
  },
  {
   "cell_type": "code",
   "execution_count": 25,
   "metadata": {},
   "outputs": [
    {
     "name": "stdout",
     "output_type": "stream",
     "text": [
      "Found 2000 images belonging to 2 classes.\n",
      "Found 1000 images belonging to 2 classes.\n",
      "Epoch 1/30\n",
      "100/100 [==============================] - 11s 112ms/step - loss: 0.5802 - acc: 0.6955 - val_loss: 0.4797 - val_acc: 0.8330\n",
      "Epoch 2/30\n",
      "100/100 [==============================] - 10s 100ms/step - loss: 0.4778 - acc: 0.7890 - val_loss: 0.4851 - val_acc: 0.8590\n",
      "Epoch 3/30\n",
      "100/100 [==============================] - 10s 100ms/step - loss: 0.4257 - acc: 0.8065 - val_loss: 0.3435 - val_acc: 0.8590\n",
      "Epoch 4/30\n",
      "100/100 [==============================] - 10s 101ms/step - loss: 0.3965 - acc: 0.8215 - val_loss: 0.2341 - val_acc: 0.8630\n",
      "Epoch 5/30\n",
      "100/100 [==============================] - 10s 100ms/step - loss: 0.3829 - acc: 0.8320 - val_loss: 0.3385 - val_acc: 0.8840\n",
      "Epoch 6/30\n",
      "100/100 [==============================] - 10s 101ms/step - loss: 0.3695 - acc: 0.8415 - val_loss: 0.3357 - val_acc: 0.8800\n",
      "Epoch 7/30\n",
      "100/100 [==============================] - 10s 101ms/step - loss: 0.3586 - acc: 0.8505 - val_loss: 0.3843 - val_acc: 0.8790\n",
      "Epoch 8/30\n",
      "100/100 [==============================] - 10s 100ms/step - loss: 0.3397 - acc: 0.8490 - val_loss: 0.1995 - val_acc: 0.8740\n",
      "Epoch 9/30\n",
      "100/100 [==============================] - 10s 100ms/step - loss: 0.3460 - acc: 0.8440 - val_loss: 0.3122 - val_acc: 0.8850\n",
      "Epoch 10/30\n",
      "100/100 [==============================] - 10s 100ms/step - loss: 0.3438 - acc: 0.8540 - val_loss: 0.1418 - val_acc: 0.8900\n",
      "Epoch 11/30\n",
      "100/100 [==============================] - 10s 100ms/step - loss: 0.3354 - acc: 0.8545 - val_loss: 0.4322 - val_acc: 0.8880\n",
      "Epoch 12/30\n",
      "100/100 [==============================] - 10s 101ms/step - loss: 0.3343 - acc: 0.8490 - val_loss: 0.0483 - val_acc: 0.8940\n",
      "Epoch 13/30\n",
      "100/100 [==============================] - 10s 100ms/step - loss: 0.3192 - acc: 0.8535 - val_loss: 0.2192 - val_acc: 0.9020\n",
      "Epoch 14/30\n",
      "100/100 [==============================] - 10s 99ms/step - loss: 0.3098 - acc: 0.8695 - val_loss: 0.1030 - val_acc: 0.8990\n",
      "Epoch 15/30\n",
      "100/100 [==============================] - 10s 100ms/step - loss: 0.3161 - acc: 0.8620 - val_loss: 0.2479 - val_acc: 0.8980\n",
      "Epoch 16/30\n",
      "100/100 [==============================] - 10s 101ms/step - loss: 0.3177 - acc: 0.8640 - val_loss: 0.0653 - val_acc: 0.8980\n",
      "Epoch 17/30\n",
      "100/100 [==============================] - 10s 100ms/step - loss: 0.3163 - acc: 0.8665 - val_loss: 0.2079 - val_acc: 0.9000\n",
      "Epoch 18/30\n",
      "100/100 [==============================] - 10s 99ms/step - loss: 0.3065 - acc: 0.8665 - val_loss: 0.2607 - val_acc: 0.9040\n",
      "Epoch 19/30\n",
      "100/100 [==============================] - 10s 100ms/step - loss: 0.3137 - acc: 0.8630 - val_loss: 0.3275 - val_acc: 0.9050\n",
      "Epoch 20/30\n",
      "100/100 [==============================] - 10s 100ms/step - loss: 0.3030 - acc: 0.8600 - val_loss: 0.2364 - val_acc: 0.8930\n",
      "Epoch 21/30\n",
      "100/100 [==============================] - 10s 102ms/step - loss: 0.2927 - acc: 0.8730 - val_loss: 0.1070 - val_acc: 0.8950\n",
      "Epoch 22/30\n",
      "100/100 [==============================] - 10s 103ms/step - loss: 0.2940 - acc: 0.8720 - val_loss: 0.0928 - val_acc: 0.8970\n",
      "Epoch 23/30\n",
      "100/100 [==============================] - 10s 101ms/step - loss: 0.3016 - acc: 0.8810 - val_loss: 0.3834 - val_acc: 0.9020\n",
      "Epoch 24/30\n",
      "100/100 [==============================] - 10s 101ms/step - loss: 0.2949 - acc: 0.8730 - val_loss: 0.1744 - val_acc: 0.8920\n",
      "Epoch 25/30\n",
      "100/100 [==============================] - 10s 103ms/step - loss: 0.2898 - acc: 0.8760 - val_loss: 0.1448 - val_acc: 0.8950\n",
      "Epoch 26/30\n",
      "100/100 [==============================] - 10s 101ms/step - loss: 0.2839 - acc: 0.8820 - val_loss: 0.2079 - val_acc: 0.9000\n",
      "Epoch 27/30\n",
      "100/100 [==============================] - 10s 101ms/step - loss: 0.2997 - acc: 0.8675 - val_loss: 0.1838 - val_acc: 0.9060\n",
      "Epoch 28/30\n",
      "100/100 [==============================] - 10s 100ms/step - loss: 0.2898 - acc: 0.8725 - val_loss: 0.2414 - val_acc: 0.8940\n",
      "Epoch 29/30\n",
      "100/100 [==============================] - 10s 101ms/step - loss: 0.2763 - acc: 0.8855 - val_loss: 0.1476 - val_acc: 0.9040\n",
      "Epoch 30/30\n",
      "100/100 [==============================] - 10s 100ms/step - loss: 0.2756 - acc: 0.8825 - val_loss: 0.2373 - val_acc: 0.9010\n"
     ]
    }
   ],
   "source": [
    "train_datagen = ImageDataGenerator(\n",
    "rescale=1./255,\n",
    "rotation_range=40,\n",
    "width_shift_range=0.2,\n",
    "height_shift_range=0.2,\n",
    "shear_range=0.2,\n",
    "zoom_range=0.2,\n",
    "horizontal_flip=True,\n",
    "fill_mode='nearest')\n",
    "\n",
    "test_datagen = ImageDataGenerator(rescale=1./255)\n",
    "\n",
    "train_generator = train_datagen.flow_from_directory(\n",
    "                  train_dir,\n",
    "                  target_size = (150, 150),\n",
    "                  batch_size=20,\n",
    "                  class_mode = 'binary')\n",
    "\n",
    "validation_generator = test_datagen.flow_from_directory(\n",
    "                        val_dir,\n",
    "                        target_size=(150, 150),\n",
    "                        batch_size=20,\n",
    "                        class_mode='binary')\n",
    "\n",
    "model.compile(loss='binary_crossentropy',\n",
    "              optimizer=optimizers.RMSprop(lr=2e-5),\n",
    "              metrics=['acc'])\n",
    "\n",
    "history = model.fit_generator(\n",
    "                train_generator,\n",
    "                steps_per_epoch=100,\n",
    "                epochs=30,\n",
    "                validation_data=validation_generator,\n",
    "                validation_steps=50)"
   ]
  },
  {
   "cell_type": "code",
   "execution_count": 26,
   "metadata": {},
   "outputs": [
    {
     "data": {
      "image/png": "[encoded data removed]",
      "text/plain": [
       "<Figure size 432x288 with 1 Axes>"
      ]
     },
     "metadata": {
      "needs_background": "light"
     },
     "output_type": "display_data"
    },
    {
     "data": {
      "image/png": "[encoded data removed]",
      "text/plain": [
       "<Figure size 432x288 with 1 Axes>"
      ]
     },
     "metadata": {
      "needs_background": "light"
     },
     "output_type": "display_data"
    }
   ],
   "source": [
    "acc = history.history['acc']\n",
    "val_acc = history.history['val_acc']\n",
    "loss = history.history['loss']\n",
    "val_loss = history.history['val_loss']\n",
    "epochs = range(1, len(acc) + 1)\n",
    "plt.plot(epochs, acc, 'bo', label='Training acc')\n",
    "plt.plot(epochs, val_acc, 'b', label='Validation acc')\n",
    "plt.title('Training and validation accuracy')\n",
    "plt.figure()\n",
    "plt.plot(epochs, loss, 'bo', label='Training loss')\n",
    "plt.plot(epochs, val_loss, 'b', label='Validation loss')\n",
    "plt.title('Training and validation loss')\n",
    "plt.show()"
   ]
  },
  {
   "cell_type": "code",
   "execution_count": null,
   "metadata": {},
   "outputs": [],
   "source": []
  }
 ],
 "metadata": {
  "kernelspec": {
   "display_name": "Python 3",
   "language": "python",
   "name": "python3"
  },
  "language_info": {
   "codemirror_mode": {
    "name": "ipython",
    "version": 3
   },
   "file_extension": ".py",
   "mimetype": "text/x-python",
   "name": "python",
   "nbconvert_exporter": "python",
   "pygments_lexer": "ipython3",
   "version": "3.6.10"
  }
 },
 "nbformat": 4,
 "nbformat_minor": 4
}
