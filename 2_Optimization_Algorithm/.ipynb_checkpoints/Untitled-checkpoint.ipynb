{
 "cells": [
  {
   "cell_type": "code",
   "execution_count": 23,
   "metadata": {},
   "outputs": [],
   "source": [
    "from sklearn import datasets\n",
    "from sklearn.model_selection import train_test_split\n",
    "from sklearn.linear_model import LogisticRegressionCV\n",
    "from sklearn.preprocessing import StandardScaler"
   ]
  },
  {
   "cell_type": "code",
   "execution_count": 61,
   "metadata": {},
   "outputs": [
    {
     "name": "stdout",
     "output_type": "stream",
     "text": [
      "( 0 : [5.1 3.5 1.4 0.2] , 0 )\n",
      "( 1 : [4.9 3.  1.4 0.2] , 0 )\n",
      "( 2 : [4.7 3.2 1.3 0.2] , 0 )\n",
      "( 3 : [4.6 3.1 1.5 0.2] , 0 )\n",
      "( 4 : [5.  3.6 1.4 0.2] , 0 )\n",
      "( 5 : [5.4 3.9 1.7 0.4] , 0 )\n",
      "( 6 : [4.6 3.4 1.4 0.3] , 0 )\n",
      "( 7 : [5.  3.4 1.5 0.2] , 0 )\n",
      "( 8 : [4.4 2.9 1.4 0.2] , 0 )\n",
      "( 9 : [4.9 3.1 1.5 0.1] , 0 )\n",
      "( 10 : [5.4 3.7 1.5 0.2] , 0 )\n",
      "( 11 : [4.8 3.4 1.6 0.2] , 0 )\n",
      "( 12 : [4.8 3.  1.4 0.1] , 0 )\n",
      "( 13 : [4.3 3.  1.1 0.1] , 0 )\n",
      "( 14 : [5.8 4.  1.2 0.2] , 0 )\n",
      "( 15 : [5.7 4.4 1.5 0.4] , 0 )\n",
      "( 16 : [5.4 3.9 1.3 0.4] , 0 )\n",
      "( 17 : [5.1 3.5 1.4 0.3] , 0 )\n",
      "( 18 : [5.7 3.8 1.7 0.3] , 0 )\n",
      "( 19 : [5.1 3.8 1.5 0.3] , 0 )\n",
      "( 20 : [5.4 3.4 1.7 0.2] , 0 )\n",
      "( 21 : [5.1 3.7 1.5 0.4] , 0 )\n",
      "( 22 : [4.6 3.6 1.  0.2] , 0 )\n",
      "( 23 : [5.1 3.3 1.7 0.5] , 0 )\n",
      "( 24 : [4.8 3.4 1.9 0.2] , 0 )\n",
      "( 25 : [5.  3.  1.6 0.2] , 0 )\n",
      "( 26 : [5.  3.4 1.6 0.4] , 0 )\n",
      "( 27 : [5.2 3.5 1.5 0.2] , 0 )\n",
      "( 28 : [5.2 3.4 1.4 0.2] , 0 )\n",
      "( 29 : [4.7 3.2 1.6 0.2] , 0 )\n",
      "( 30 : [4.8 3.1 1.6 0.2] , 0 )\n",
      "( 31 : [5.4 3.4 1.5 0.4] , 0 )\n",
      "( 32 : [5.2 4.1 1.5 0.1] , 0 )\n",
      "( 33 : [5.5 4.2 1.4 0.2] , 0 )\n",
      "( 34 : [4.9 3.1 1.5 0.2] , 0 )\n",
      "( 35 : [5.  3.2 1.2 0.2] , 0 )\n",
      "( 36 : [5.5 3.5 1.3 0.2] , 0 )\n",
      "( 37 : [4.9 3.6 1.4 0.1] , 0 )\n",
      "( 38 : [4.4 3.  1.3 0.2] , 0 )\n",
      "( 39 : [5.1 3.4 1.5 0.2] , 0 )\n",
      "( 40 : [5.  3.5 1.3 0.3] , 0 )\n",
      "( 41 : [4.5 2.3 1.3 0.3] , 0 )\n",
      "( 42 : [4.4 3.2 1.3 0.2] , 0 )\n",
      "( 43 : [5.  3.5 1.6 0.6] , 0 )\n",
      "( 44 : [5.1 3.8 1.9 0.4] , 0 )\n",
      "( 45 : [4.8 3.  1.4 0.3] , 0 )\n",
      "( 46 : [5.1 3.8 1.6 0.2] , 0 )\n",
      "( 47 : [4.6 3.2 1.4 0.2] , 0 )\n",
      "( 48 : [5.3 3.7 1.5 0.2] , 0 )\n",
      "( 49 : [5.  3.3 1.4 0.2] , 0 )\n",
      "( 50 : [7.  3.2 4.7 1.4] , 1 )\n",
      "( 51 : [6.4 3.2 4.5 1.5] , 1 )\n",
      "( 52 : [6.9 3.1 4.9 1.5] , 1 )\n",
      "( 53 : [5.5 2.3 4.  1.3] , 1 )\n",
      "( 54 : [6.5 2.8 4.6 1.5] , 1 )\n",
      "( 55 : [5.7 2.8 4.5 1.3] , 1 )\n",
      "( 56 : [6.3 3.3 4.7 1.6] , 1 )\n",
      "( 57 : [4.9 2.4 3.3 1. ] , 1 )\n",
      "( 58 : [6.6 2.9 4.6 1.3] , 1 )\n",
      "( 59 : [5.2 2.7 3.9 1.4] , 1 )\n",
      "( 60 : [5.  2.  3.5 1. ] , 1 )\n",
      "( 61 : [5.9 3.  4.2 1.5] , 1 )\n",
      "( 62 : [6.  2.2 4.  1. ] , 1 )\n",
      "( 63 : [6.1 2.9 4.7 1.4] , 1 )\n",
      "( 64 : [5.6 2.9 3.6 1.3] , 1 )\n",
      "( 65 : [6.7 3.1 4.4 1.4] , 1 )\n",
      "( 66 : [5.6 3.  4.5 1.5] , 1 )\n",
      "( 67 : [5.8 2.7 4.1 1. ] , 1 )\n",
      "( 68 : [6.2 2.2 4.5 1.5] , 1 )\n",
      "( 69 : [5.6 2.5 3.9 1.1] , 1 )\n",
      "( 70 : [5.9 3.2 4.8 1.8] , 1 )\n",
      "( 71 : [6.1 2.8 4.  1.3] , 1 )\n",
      "( 72 : [6.3 2.5 4.9 1.5] , 1 )\n",
      "( 73 : [6.1 2.8 4.7 1.2] , 1 )\n",
      "( 74 : [6.4 2.9 4.3 1.3] , 1 )\n",
      "( 75 : [6.6 3.  4.4 1.4] , 1 )\n",
      "( 76 : [6.8 2.8 4.8 1.4] , 1 )\n",
      "( 77 : [6.7 3.  5.  1.7] , 1 )\n",
      "( 78 : [6.  2.9 4.5 1.5] , 1 )\n",
      "( 79 : [5.7 2.6 3.5 1. ] , 1 )\n",
      "( 80 : [5.5 2.4 3.8 1.1] , 1 )\n",
      "( 81 : [5.5 2.4 3.7 1. ] , 1 )\n",
      "( 82 : [5.8 2.7 3.9 1.2] , 1 )\n",
      "( 83 : [6.  2.7 5.1 1.6] , 1 )\n",
      "( 84 : [5.4 3.  4.5 1.5] , 1 )\n",
      "( 85 : [6.  3.4 4.5 1.6] , 1 )\n",
      "( 86 : [6.7 3.1 4.7 1.5] , 1 )\n",
      "( 87 : [6.3 2.3 4.4 1.3] , 1 )\n",
      "( 88 : [5.6 3.  4.1 1.3] , 1 )\n",
      "( 89 : [5.5 2.5 4.  1.3] , 1 )\n",
      "( 90 : [5.5 2.6 4.4 1.2] , 1 )\n",
      "( 91 : [6.1 3.  4.6 1.4] , 1 )\n",
      "( 92 : [5.8 2.6 4.  1.2] , 1 )\n",
      "( 93 : [5.  2.3 3.3 1. ] , 1 )\n",
      "( 94 : [5.6 2.7 4.2 1.3] , 1 )\n",
      "( 95 : [5.7 3.  4.2 1.2] , 1 )\n",
      "( 96 : [5.7 2.9 4.2 1.3] , 1 )\n",
      "( 97 : [6.2 2.9 4.3 1.3] , 1 )\n",
      "( 98 : [5.1 2.5 3.  1.1] , 1 )\n",
      "( 99 : [5.7 2.8 4.1 1.3] , 1 )\n",
      "( 100 : [6.3 3.3 6.  2.5] , 2 )\n",
      "( 101 : [5.8 2.7 5.1 1.9] , 2 )\n",
      "( 102 : [7.1 3.  5.9 2.1] , 2 )\n",
      "( 103 : [6.3 2.9 5.6 1.8] , 2 )\n",
      "( 104 : [6.5 3.  5.8 2.2] , 2 )\n",
      "( 105 : [7.6 3.  6.6 2.1] , 2 )\n",
      "( 106 : [4.9 2.5 4.5 1.7] , 2 )\n",
      "( 107 : [7.3 2.9 6.3 1.8] , 2 )\n",
      "( 108 : [6.7 2.5 5.8 1.8] , 2 )\n",
      "( 109 : [7.2 3.6 6.1 2.5] , 2 )\n",
      "( 110 : [6.5 3.2 5.1 2. ] , 2 )\n",
      "( 111 : [6.4 2.7 5.3 1.9] , 2 )\n",
      "( 112 : [6.8 3.  5.5 2.1] , 2 )\n",
      "( 113 : [5.7 2.5 5.  2. ] , 2 )\n",
      "( 114 : [5.8 2.8 5.1 2.4] , 2 )\n",
      "( 115 : [6.4 3.2 5.3 2.3] , 2 )\n",
      "( 116 : [6.5 3.  5.5 1.8] , 2 )\n",
      "( 117 : [7.7 3.8 6.7 2.2] , 2 )\n",
      "( 118 : [7.7 2.6 6.9 2.3] , 2 )\n",
      "( 119 : [6.  2.2 5.  1.5] , 2 )\n",
      "( 120 : [6.9 3.2 5.7 2.3] , 2 )\n",
      "( 121 : [5.6 2.8 4.9 2. ] , 2 )\n",
      "( 122 : [7.7 2.8 6.7 2. ] , 2 )\n",
      "( 123 : [6.3 2.7 4.9 1.8] , 2 )\n",
      "( 124 : [6.7 3.3 5.7 2.1] , 2 )\n",
      "( 125 : [7.2 3.2 6.  1.8] , 2 )\n",
      "( 126 : [6.2 2.8 4.8 1.8] , 2 )\n",
      "( 127 : [6.1 3.  4.9 1.8] , 2 )\n",
      "( 128 : [6.4 2.8 5.6 2.1] , 2 )\n",
      "( 129 : [7.2 3.  5.8 1.6] , 2 )\n",
      "( 130 : [7.4 2.8 6.1 1.9] , 2 )\n",
      "( 131 : [7.9 3.8 6.4 2. ] , 2 )\n",
      "( 132 : [6.4 2.8 5.6 2.2] , 2 )\n",
      "( 133 : [6.3 2.8 5.1 1.5] , 2 )\n",
      "( 134 : [6.1 2.6 5.6 1.4] , 2 )\n",
      "( 135 : [7.7 3.  6.1 2.3] , 2 )\n",
      "( 136 : [6.3 3.4 5.6 2.4] , 2 )\n",
      "( 137 : [6.4 3.1 5.5 1.8] , 2 )\n",
      "( 138 : [6.  3.  4.8 1.8] , 2 )\n",
      "( 139 : [6.9 3.1 5.4 2.1] , 2 )\n",
      "( 140 : [6.7 3.1 5.6 2.4] , 2 )\n",
      "( 141 : [6.9 3.1 5.1 2.3] , 2 )\n",
      "( 142 : [5.8 2.7 5.1 1.9] , 2 )\n",
      "( 143 : [6.8 3.2 5.9 2.3] , 2 )\n",
      "( 144 : [6.7 3.3 5.7 2.5] , 2 )\n",
      "( 145 : [6.7 3.  5.2 2.3] , 2 )\n",
      "( 146 : [6.3 2.5 5.  1.9] , 2 )\n",
      "( 147 : [6.5 3.  5.2 2. ] , 2 )\n",
      "( 148 : [6.2 3.4 5.4 2.3] , 2 )\n",
      "( 149 : [5.9 3.  5.1 1.8] , 2 )\n"
     ]
    }
   ],
   "source": [
    "data, label = datasets.load_iris(return_X_y=True)\n",
    "data_train, data_test, label_train, label_test = train_test_split(data, label, test_size=0.8, random_state=0)\n",
    "for i in range(len(data)):\n",
    "    print(\"(\", i, \":\", data[i], \",\", label[i], \")\")"
   ]
  },
  {
   "cell_type": "code",
   "execution_count": 62,
   "metadata": {},
   "outputs": [
    {
     "name": "stderr",
     "output_type": "stream",
     "text": [
      "/Users/cyp/anaconda3/lib/python3.7/site-packages/sklearn/linear_model/logistic.py:469: FutureWarning: Default multi_class will be changed to 'auto' in 0.22. Specify the multi_class option to silence this warning.\n",
      "  \"this warning.\", FutureWarning)\n",
      "/Users/cyp/anaconda3/lib/python3.7/site-packages/sklearn/model_selection/_split.py:657: Warning: The least populated class in y has only 9 members, which is too few. The minimum number of members in any class cannot be less than n_splits=10.\n",
      "  % (min_groups, self.n_splits)), Warning)\n"
     ]
    },
    {
     "data": {
      "text/plain": [
       "LogisticRegressionCV(Cs=10, class_weight=None, cv=10, dual=False,\n",
       "                     fit_intercept=True, intercept_scaling=1.0, l1_ratios=None,\n",
       "                     max_iter=100, multi_class='warn', n_jobs=2, penalty='l1',\n",
       "                     random_state=0, refit=True, scoring='accuracy',\n",
       "                     solver='liblinear', tol=0.0001, verbose=0)"
      ]
     },
     "execution_count": 62,
     "metadata": {},
     "output_type": "execute_result"
    }
   ],
   "source": [
    "data_train_fit = StandardScaler().fit(data_train)\n",
    "data_train_transformed = data_train_fit.transform(data_train)\n",
    "clf = LogisticRegressionCV(n_jobs=2, penalty='l1', solver='liblinear', cv=10, scoring = 'accuracy', random_state=0)\n",
    "clf.fit(data_train_transformed, label_train)"
   ]
  },
  {
   "cell_type": "code",
   "execution_count": 64,
   "metadata": {},
   "outputs": [
    {
     "name": "stdout",
     "output_type": "stream",
     "text": [
      "0.8583333333333333\n",
      "[ -0.32723837  -1.14774159 -21.68215293]\n",
      "[[ 0.          0.3654894  -1.76057385  0.        ]\n",
      " [-0.87259953 -2.3388661   1.02127533 -0.33528264]\n",
      " [-2.49509485 -2.83128743 16.14322178 12.43918871]]\n",
      "[  0.35938137  21.5443469  166.81005372]\n"
     ]
    },
    {
     "name": "stderr",
     "output_type": "stream",
     "text": [
      "/Users/cyp/anaconda3/lib/python3.7/site-packages/sklearn/linear_model/logistic.py:2257: ChangedBehaviorWarning: The long-standing behavior to use the accuracy score has changed. The scoring parameter is now used. This warning will disappear in version 0.22.\n",
      "  ChangedBehaviorWarning)\n"
     ]
    }
   ],
   "source": [
    "print(clf.score(data_train_fit.transform(data_test), label_test))\n",
    "print(clf.intercept_)\n",
    "print(clf.coef_)\n",
    "print(clf.C_)"
   ]
  },
  {
   "cell_type": "code",
   "execution_count": null,
   "metadata": {},
   "outputs": [],
   "source": []
  }
 ],
 "metadata": {
  "kernelspec": {
   "display_name": "Python 3",
   "language": "python",
   "name": "python3"
  },
  "language_info": {
   "codemirror_mode": {
    "name": "ipython",
    "version": 3
   },
   "file_extension": ".py",
   "mimetype": "text/x-python",
   "name": "python",
   "nbconvert_exporter": "python",
   "pygments_lexer": "ipython3",
   "version": "3.7.3"
  }
 },
 "nbformat": 4,
 "nbformat_minor": 2
}
