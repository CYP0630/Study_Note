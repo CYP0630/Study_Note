{
 "cells": [
  {
   "cell_type": "markdown",
   "metadata": {},
   "source": [
    "## Classifying movie reviews: Binary Classification"
   ]
  },
  {
   "cell_type": "markdown",
   "metadata": {},
   "source": [
    "### IMDB Dataset"
   ]
  },
  {
   "cell_type": "markdown",
   "metadata": {},
   "source": [
    "#### IMDB Data Preparation"
   ]
  },
  {
   "cell_type": "code",
   "execution_count": 1,
   "metadata": {},
   "outputs": [
    {
     "name": "stderr",
     "output_type": "stream",
     "text": [
      "Using TensorFlow backend.\n"
     ]
    }
   ],
   "source": [
    "#Load IMDB dataset\n",
    "from keras.datasets import imdb\n",
    "(train_data, train_label), (test_data, test_labels) = imdb.load_data(num_words = 10000)"
   ]
  },
  {
   "cell_type": "code",
   "execution_count": 2,
   "metadata": {},
   "outputs": [
    {
     "name": "stdout",
     "output_type": "stream",
     "text": [
      "[1, 14, 22, 16, 43, 530, 973, 1622, 1385, 65, 458, 4468, 66, 3941, 4, 173, 36, 256, 5, 25, 100, 43, 838, 112, 50, 670, 2, 9, 35, 480, 284, 5, 150, 4, 172, 112, 167, 2, 336, 385, 39, 4, 172, 4536, 1111, 17, 546, 38, 13, 447, 4, 192, 50, 16, 6, 147, 2025, 19, 14, 22, 4, 1920, 4613, 469, 4, 22, 71, 87, 12, 16, 43, 530, 38, 76, 15, 13, 1247, 4, 22, 17, 515, 17, 12, 16, 626, 18, 2, 5, 62, 386, 12, 8, 316, 8, 106, 5, 4, 2223, 5244, 16, 480, 66, 3785, 33, 4, 130, 12, 16, 38, 619, 5, 25, 124, 51, 36, 135, 48, 25, 1415, 33, 6, 22, 12, 215, 28, 77, 52, 5, 14, 407, 16, 82, 2, 8, 4, 107, 117, 5952, 15, 256, 4, 2, 7, 3766, 5, 723, 36, 71, 43, 530, 476, 26, 400, 317, 46, 7, 4, 2, 1029, 13, 104, 88, 4, 381, 15, 297, 98, 32, 2071, 56, 26, 141, 6, 194, 7486, 18, 4, 226, 22, 21, 134, 476, 26, 480, 5, 144, 30, 5535, 18, 51, 36, 28, 224, 92, 25, 104, 4, 226, 65, 16, 38, 1334, 88, 12, 16, 283, 5, 16, 4472, 113, 103, 32, 15, 16, 5345, 19, 178, 32]\n"
     ]
    }
   ],
   "source": [
    "print(train_data[0])"
   ]
  },
  {
   "cell_type": "code",
   "execution_count": 3,
   "metadata": {},
   "outputs": [
    {
     "name": "stdout",
     "output_type": "stream",
     "text": [
      "1\n"
     ]
    }
   ],
   "source": [
    "print(train_label[0])"
   ]
  },
  {
   "cell_type": "code",
   "execution_count": 4,
   "metadata": {},
   "outputs": [
    {
     "data": {
      "text/plain": [
       "9999"
      ]
     },
     "execution_count": 4,
     "metadata": {},
     "output_type": "execute_result"
    }
   ],
   "source": [
    "max([max(sequence) for sequence in train_data])"
   ]
  },
  {
   "cell_type": "markdown",
   "metadata": {},
   "source": [
    "#### Decode"
   ]
  },
  {
   "cell_type": "code",
   "execution_count": 5,
   "metadata": {},
   "outputs": [],
   "source": [
    "word_index = imdb.get_word_index()\n",
    "reverse_word_index = dict([(value, key) for (key, value) in word_index.items()])\n",
    "decoded_review = ' '.join([reverse_word_index.get(i - 3, '?') for i in train_data[0]])"
   ]
  },
  {
   "cell_type": "code",
   "execution_count": 6,
   "metadata": {},
   "outputs": [],
   "source": [
    "import numpy as np\n",
    "\n",
    "def vectorize_sequences(sequences, dimension=10000):\n",
    "    results = np.zeros((len(sequences), dimension))\n",
    "    for i, sequence in enumerate(sequences):\n",
    "        results[i, sequence] = 1\n",
    "    return results\n",
    "\n",
    "x_train = vectorize_sequences(train_data)\n",
    "x_test = vectorize_sequences(test_data)"
   ]
  },
  {
   "cell_type": "code",
   "execution_count": 7,
   "metadata": {},
   "outputs": [
    {
     "name": "stdout",
     "output_type": "stream",
     "text": [
      "[0. 1. 1. ... 0. 0. 0.]\n"
     ]
    }
   ],
   "source": [
    "print(x_train[0])"
   ]
  },
  {
   "cell_type": "code",
   "execution_count": 10,
   "metadata": {},
   "outputs": [],
   "source": [
    "y_train = np.asarray(train_label).astype('float32')\n",
    "y_test = np.asarray(test_labels).astype('float32')"
   ]
  },
  {
   "cell_type": "markdown",
   "metadata": {},
   "source": [
    "#### Model Defination"
   ]
  },
  {
   "cell_type": "code",
   "execution_count": 13,
   "metadata": {},
   "outputs": [],
   "source": [
    "from keras import models\n",
    "from keras import layers\n",
    "from keras import optimizers\n",
    "from keras import losses\n",
    "from keras import metrics\n",
    "\n",
    "model = models.Sequential()\n",
    "model.add(layers.Dense(16, activation = 'relu', input_shape=(10000,)))\n",
    "model.add(layers.Dense(16, activation = 'relu'))\n",
    "model.add(layers.Dense(1, activation = 'sigmoid'))\n",
    "\n",
    "model.compile(optimizer = optimizers.RMSprop(lr=0.001),\n",
    "              loss = losses.binary_crossentropy,\n",
    "              metrics = [metrics.binary_accuracy])"
   ]
  },
  {
   "cell_type": "code",
   "execution_count": 14,
   "metadata": {},
   "outputs": [
    {
     "name": "stdout",
     "output_type": "stream",
     "text": [
      "Train on 15000 samples, validate on 10000 samples\n",
      "Epoch 1/20\n",
      "15000/15000 [==============================] - 1s 85us/step - loss: 0.5335 - binary_accuracy: 0.7835 - val_loss: 0.4170 - val_binary_accuracy: 0.8502\n",
      "Epoch 2/20\n",
      "15000/15000 [==============================] - 1s 58us/step - loss: 0.3200 - binary_accuracy: 0.9001 - val_loss: 0.3181 - val_binary_accuracy: 0.8818\n",
      "Epoch 3/20\n",
      "15000/15000 [==============================] - 1s 58us/step - loss: 0.2322 - binary_accuracy: 0.9246 - val_loss: 0.2974 - val_binary_accuracy: 0.8810\n",
      "Epoch 4/20\n",
      "15000/15000 [==============================] - 1s 58us/step - loss: 0.1816 - binary_accuracy: 0.9417 - val_loss: 0.2918 - val_binary_accuracy: 0.8833\n",
      "Epoch 5/20\n",
      "15000/15000 [==============================] - 1s 57us/step - loss: 0.1471 - binary_accuracy: 0.9531 - val_loss: 0.2909 - val_binary_accuracy: 0.8858\n",
      "Epoch 6/20\n",
      "15000/15000 [==============================] - 1s 57us/step - loss: 0.1249 - binary_accuracy: 0.9605 - val_loss: 0.2897 - val_binary_accuracy: 0.8873\n",
      "Epoch 7/20\n",
      "15000/15000 [==============================] - 1s 57us/step - loss: 0.1003 - binary_accuracy: 0.9697 - val_loss: 0.3068 - val_binary_accuracy: 0.8841\n",
      "Epoch 8/20\n",
      "15000/15000 [==============================] - 1s 58us/step - loss: 0.0835 - binary_accuracy: 0.9766 - val_loss: 0.3249 - val_binary_accuracy: 0.8819\n",
      "Epoch 9/20\n",
      "15000/15000 [==============================] - 1s 57us/step - loss: 0.0705 - binary_accuracy: 0.9811 - val_loss: 0.3484 - val_binary_accuracy: 0.8808\n",
      "Epoch 10/20\n",
      "15000/15000 [==============================] - 1s 57us/step - loss: 0.0563 - binary_accuracy: 0.9861 - val_loss: 0.3766 - val_binary_accuracy: 0.8791\n",
      "Epoch 11/20\n",
      "15000/15000 [==============================] - 1s 57us/step - loss: 0.0476 - binary_accuracy: 0.9881 - val_loss: 0.4215 - val_binary_accuracy: 0.8694\n",
      "Epoch 12/20\n",
      "15000/15000 [==============================] - 1s 57us/step - loss: 0.0361 - binary_accuracy: 0.9929 - val_loss: 0.4563 - val_binary_accuracy: 0.8669\n",
      "Epoch 13/20\n",
      "15000/15000 [==============================] - 1s 58us/step - loss: 0.0316 - binary_accuracy: 0.9931 - val_loss: 0.4639 - val_binary_accuracy: 0.8697\n",
      "Epoch 14/20\n",
      "15000/15000 [==============================] - 1s 58us/step - loss: 0.0234 - binary_accuracy: 0.9965 - val_loss: 0.4974 - val_binary_accuracy: 0.8742\n",
      "Epoch 15/20\n",
      "15000/15000 [==============================] - 1s 58us/step - loss: 0.0194 - binary_accuracy: 0.9975 - val_loss: 0.5351 - val_binary_accuracy: 0.8653\n",
      "Epoch 16/20\n",
      "15000/15000 [==============================] - 1s 57us/step - loss: 0.0151 - binary_accuracy: 0.9979 - val_loss: 0.5771 - val_binary_accuracy: 0.8699\n",
      "Epoch 17/20\n",
      "15000/15000 [==============================] - 1s 57us/step - loss: 0.0124 - binary_accuracy: 0.9985 - val_loss: 0.5837 - val_binary_accuracy: 0.8696\n",
      "Epoch 18/20\n",
      "15000/15000 [==============================] - 1s 57us/step - loss: 0.0095 - binary_accuracy: 0.9990 - val_loss: 0.6189 - val_binary_accuracy: 0.8684\n",
      "Epoch 19/20\n",
      "15000/15000 [==============================] - 1s 57us/step - loss: 0.0069 - binary_accuracy: 0.9995 - val_loss: 0.6565 - val_binary_accuracy: 0.8690\n",
      "Epoch 20/20\n",
      "15000/15000 [==============================] - 1s 57us/step - loss: 0.0064 - binary_accuracy: 0.9994 - val_loss: 0.6932 - val_binary_accuracy: 0.8662\n"
     ]
    }
   ],
   "source": [
    "x_val = x_train[:10000]\n",
    "partial_x_train = x_train[10000:]\n",
    "\n",
    "y_val = y_train[:10000]\n",
    "partial_y_train = y_train[10000:]\n",
    "\n",
    "history = model.fit(partial_x_train,\n",
    "                    partial_y_train,\n",
    "                    epochs = 20,\n",
    "                    batch_size = 512,\n",
    "                    validation_data = (x_val, y_val))"
   ]
  },
  {
   "cell_type": "code",
   "execution_count": 16,
   "metadata": {},
   "outputs": [
    {
     "data": {
      "image/png": "[encoded data removed]",
      "text/plain": [
       "<Figure size 432x288 with 1 Axes>"
      ]
     },
     "metadata": {
      "needs_background": "light"
     },
     "output_type": "display_data"
    }
   ],
   "source": [
    "import matplotlib.pyplot as plt\n",
    "\n",
    "history_dict = history.history\n",
    "loss_values = history_dict['loss']\n",
    "val_loss_values = history_dict['val_loss']\n",
    "\n",
    "epochs = range(1, len(loss_values) + 1)\n",
    "\n",
    "plt.plot(epochs, loss_values, 'bo', label = 'Training loss')\n",
    "plt.plot(epochs, val_loss_values, 'b', label = 'Validation loss')\n",
    "plt.title('Training and validation loss')\n",
    "plt.xlabel('Epochs')\n",
    "plt.ylabel('Loss')\n",
    "plt.show()"
   ]
  },
  {
   "cell_type": "code",
   "execution_count": 17,
   "metadata": {},
   "outputs": [
    {
     "data": {
      "text/plain": [
       "array([[0.00683954],\n",
       "       [1.        ],\n",
       "       [0.9750333 ],\n",
       "       ...,\n",
       "       [0.00157508],\n",
       "       [0.00735676],\n",
       "       [0.7658247 ]], dtype=float32)"
      ]
     },
     "execution_count": 17,
     "metadata": {},
     "output_type": "execute_result"
    }
   ],
   "source": [
    "model.predict(x_test)"
   ]
  },
  {
   "cell_type": "markdown",
   "metadata": {},
   "source": [
    "### Returers Dataset"
   ]
  },
  {
   "cell_type": "code",
   "execution_count": 18,
   "metadata": {},
   "outputs": [],
   "source": [
    "from keras.datasets import reuters"
   ]
  },
  {
   "cell_type": "code",
   "execution_count": 19,
   "metadata": {},
   "outputs": [],
   "source": [
    "(train_data, train_labels), (test_data, test_labels) = reuters.load_data( num_words=10000)"
   ]
  },
  {
   "cell_type": "code",
   "execution_count": 20,
   "metadata": {},
   "outputs": [],
   "source": [
    "import numpy as np\n",
    "\n",
    "def vectorize_sequences(sequences, dimension=10000):\n",
    "    results = np.zeros((len(sequences), dimension))\n",
    "    for i, sequence in enumerate(sequences):\n",
    "        results[i, sequence] = 1\n",
    "    return results\n",
    "\n",
    "x_train = vectorize_sequences(train_data)\n",
    "x_test = vectorize_sequences(test_data)"
   ]
  },
  {
   "cell_type": "code",
   "execution_count": 22,
   "metadata": {},
   "outputs": [],
   "source": [
    "def to_one_hot(labels, dimension = 46):\n",
    "    results = np.zeros((len(labels), dimension))\n",
    "    for i, label in enumerate(labels):\n",
    "        results[i, label] = 1.\n",
    "    return results\n",
    "\n",
    "one_hot_train_label = to_one_hot(train_labels)\n",
    "one_hot_test_label = to_one_hot(test_labels)"
   ]
  },
  {
   "cell_type": "code",
   "execution_count": 26,
   "metadata": {},
   "outputs": [
    {
     "name": "stdout",
     "output_type": "stream",
     "text": [
      "Train on 7982 samples, validate on 1000 samples\n",
      "Epoch 1/20\n",
      "7982/7982 [==============================] - 1s 87us/step - loss: 2.5727 - accuracy: 0.5183 - val_loss: 1.6919 - val_accuracy: 0.6500\n",
      "Epoch 2/20\n",
      "7982/7982 [==============================] - 0s 57us/step - loss: 1.3918 - accuracy: 0.7121 - val_loss: 1.2992 - val_accuracy: 0.7180\n",
      "Epoch 3/20\n",
      "7982/7982 [==============================] - 0s 57us/step - loss: 1.0455 - accuracy: 0.7759 - val_loss: 1.1578 - val_accuracy: 0.7600\n",
      "Epoch 4/20\n",
      "7982/7982 [==============================] - 0s 56us/step - loss: 0.8330 - accuracy: 0.8201 - val_loss: 1.0444 - val_accuracy: 0.7800\n",
      "Epoch 5/20\n",
      "7982/7982 [==============================] - 0s 57us/step - loss: 0.6719 - accuracy: 0.8596 - val_loss: 1.0141 - val_accuracy: 0.7880\n",
      "Epoch 6/20\n",
      "7982/7982 [==============================] - 0s 57us/step - loss: 0.5425 - accuracy: 0.8852 - val_loss: 0.9558 - val_accuracy: 0.8020\n",
      "Epoch 7/20\n",
      "7982/7982 [==============================] - 0s 56us/step - loss: 0.4392 - accuracy: 0.9083 - val_loss: 0.9462 - val_accuracy: 0.8110\n",
      "Epoch 8/20\n",
      "7982/7982 [==============================] - 0s 56us/step - loss: 0.3592 - accuracy: 0.9263 - val_loss: 0.9137 - val_accuracy: 0.8150\n",
      "Epoch 9/20\n",
      "7982/7982 [==============================] - 0s 56us/step - loss: 0.3000 - accuracy: 0.9356 - val_loss: 0.9054 - val_accuracy: 0.8110\n",
      "Epoch 10/20\n",
      "7982/7982 [==============================] - 0s 56us/step - loss: 0.2544 - accuracy: 0.9420 - val_loss: 0.9325 - val_accuracy: 0.8090\n",
      "Epoch 11/20\n",
      "7982/7982 [==============================] - 0s 58us/step - loss: 0.2209 - accuracy: 0.9468 - val_loss: 0.9101 - val_accuracy: 0.8180\n",
      "Epoch 12/20\n",
      "7982/7982 [==============================] - 0s 57us/step - loss: 0.1944 - accuracy: 0.9518 - val_loss: 0.9449 - val_accuracy: 0.8100\n",
      "Epoch 13/20\n",
      "7982/7982 [==============================] - 0s 56us/step - loss: 0.1718 - accuracy: 0.9520 - val_loss: 0.9486 - val_accuracy: 0.8130\n",
      "Epoch 14/20\n",
      "7982/7982 [==============================] - 0s 56us/step - loss: 0.1586 - accuracy: 0.9536 - val_loss: 0.9966 - val_accuracy: 0.8070\n",
      "Epoch 15/20\n",
      "7982/7982 [==============================] - 0s 57us/step - loss: 0.1442 - accuracy: 0.9557 - val_loss: 1.0113 - val_accuracy: 0.8130\n",
      "Epoch 16/20\n",
      "7982/7982 [==============================] - 0s 58us/step - loss: 0.1363 - accuracy: 0.9553 - val_loss: 1.0174 - val_accuracy: 0.8240\n",
      "Epoch 17/20\n",
      "7982/7982 [==============================] - 0s 57us/step - loss: 0.1291 - accuracy: 0.9573 - val_loss: 1.0104 - val_accuracy: 0.8150\n",
      "Epoch 18/20\n",
      "7982/7982 [==============================] - 0s 58us/step - loss: 0.1200 - accuracy: 0.9574 - val_loss: 1.0201 - val_accuracy: 0.8170\n",
      "Epoch 19/20\n",
      "7982/7982 [==============================] - 0s 57us/step - loss: 0.1195 - accuracy: 0.9574 - val_loss: 1.0646 - val_accuracy: 0.8060\n",
      "Epoch 20/20\n",
      "7982/7982 [==============================] - 0s 57us/step - loss: 0.1158 - accuracy: 0.9582 - val_loss: 1.0526 - val_accuracy: 0.8130\n"
     ]
    }
   ],
   "source": [
    "model2 = models.Sequential()\n",
    "model2.add(layers.Dense(64, activation = 'relu', input_shape=(10000, )))\n",
    "model2.add(layers.Dense(64, activation = 'relu'))\n",
    "model2.add(layers.Dense(46, activation = 'softmax'))\n",
    "\n",
    "model2.compile(optimizer = optimizers.RMSprop(lr=0.001),\n",
    "              loss = losses.categorical_crossentropy,\n",
    "              metrics = ['accuracy'])\n",
    "\n",
    "x_val = x_train[:1000]\n",
    "partial_x_train = x_train[1000:]\n",
    "\n",
    "y_val = one_hot_train_label[:1000]\n",
    "partial_y_train = one_hot_train_label[1000:]\n",
    "\n",
    "history2 = model2.fit(partial_x_train,\n",
    "                    partial_y_train,\n",
    "                    epochs = 20,\n",
    "                    batch_size = 512,\n",
    "                    validation_data = (x_val, y_val))"
   ]
  },
  {
   "cell_type": "markdown",
   "metadata": {},
   "source": [
    "#### Boston House Prices"
   ]
  },
  {
   "cell_type": "code",
   "execution_count": 27,
   "metadata": {},
   "outputs": [],
   "source": [
    "from keras.datasets import boston_housing"
   ]
  },
  {
   "cell_type": "code",
   "execution_count": 28,
   "metadata": {},
   "outputs": [],
   "source": [
    "(train_data, train_targets), (test_data, test_targets) = boston_housing.load_data()"
   ]
  },
  {
   "cell_type": "code",
   "execution_count": null,
   "metadata": {},
   "outputs": [],
   "source": []
  }
 ],
 "metadata": {
  "kernelspec": {
   "display_name": "Python 3",
   "language": "python",
   "name": "python3"
  },
  "language_info": {
   "codemirror_mode": {
    "name": "ipython",
    "version": 3
   },
   "file_extension": ".py",
   "mimetype": "text/x-python",
   "name": "python",
   "nbconvert_exporter": "python",
   "pygments_lexer": "ipython3",
   "version": "3.6.9"
  }
 },
 "nbformat": 4,
 "nbformat_minor": 2
}
