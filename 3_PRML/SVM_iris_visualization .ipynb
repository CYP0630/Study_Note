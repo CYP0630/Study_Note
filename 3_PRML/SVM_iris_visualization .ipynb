{
 "cells": [
  {
   "cell_type": "code",
   "execution_count": 11,
   "metadata": {},
   "outputs": [],
   "source": [
    "from sklearn.svm import SVC\n",
    "from sklearn import datasets\n",
    "import numpy as np\n",
    "import matplotlib.pyplot as plt"
   ]
  },
  {
   "cell_type": "code",
   "execution_count": 12,
   "metadata": {},
   "outputs": [],
   "source": [
    "#Load IRIS Dataset\n",
    "iris = datasets.load_iris()\n",
    "\n",
    "#Dataset totoaly has four features\n",
    "#Choose \"petal length\", \"petal width\" two features\n",
    "X = iris[\"data\"][:, (2, 3)]\n",
    "#Load data label\n",
    "y = iris[\"target\"]"
   ]
  },
  {
   "cell_type": "code",
   "execution_count": 13,
   "metadata": {},
   "outputs": [
    {
     "data": {
      "text/plain": [
       "SVC(C=inf, cache_size=200, class_weight=None, coef0=0.0,\n",
       "    decision_function_shape='ovr', degree=3, gamma='auto_deprecated',\n",
       "    kernel='linear', max_iter=-1, probability=False, random_state=None,\n",
       "    shrinking=True, tol=0.001, verbose=False)"
      ]
     },
     "execution_count": 13,
     "metadata": {},
     "output_type": "execute_result"
    }
   ],
   "source": [
    "#In iris dataset, 0 = setosa flower, 1 = versicolor flower, 2 = vignica flower\n",
    "#In this visualization, we choose setosa and versicolor to do a binary classificaion\n",
    "setosa_or_versicolor = (y == 0)|(y == 1)\n",
    "X = X[setosa_or_versicolor]\n",
    "y = y[setosa_or_versicolor]\n",
    "\n",
    "# We define a Support-Vector classifier\n",
    "# Kernel is linear and penalty is positive infinte\n",
    "clf = SVC(kernel = \"linear\", C = float('inf'))\n",
    "clf.fit(X,y)"
   ]
  },
  {
   "cell_type": "code",
   "execution_count": 14,
   "metadata": {},
   "outputs": [],
   "source": [
    "#Define decision boundary function to plot result.\n",
    "def plot_decision_boundary(clf, xmin, xmax):\n",
    "    # Load parameter from model\n",
    "    w = clf.coef_[0]\n",
    "    b = clf.intercept_[0]\n",
    "    \n",
    "    x0 = np.linspace(xmin, xmax, 200)\n",
    "    \n",
    "    #Define linear decision boundary:\n",
    "    # w0*x0 + w1*x1 + b = 0\n",
    "    dec_boundary = -w[0]/w[1] * x0 - b/w[1]\n",
    "    \n",
    "    #Boundary distance\n",
    "    margin = 1/w[1]\n",
    "    up_bound = dec_boundary + margin\n",
    "    down_bound = dec_boundary - margin \n",
    "    \n",
    "    # Support Vector Point\n",
    "    svs = clf.support_vectors_\n",
    "    #Plotting\n",
    "    plt.scatter(svs[:, 0], svs[:, 1], s=180, facecolors='#FFAAAA')\n",
    "    plt.plot(x0, dec_boundary, \"k-\", linewidth=2)\n",
    "    plt.plot(x0, up_bound, \"k--\", linewidth=2)\n",
    "    plt.plot(x0, down_bound, \"k--\", linewidth=2)\n",
    "\n"
   ]
  },
  {
   "cell_type": "code",
   "execution_count": 15,
   "metadata": {},
   "outputs": [
    {
     "data": {
      "image/png": "[encoded data removed]",
      "text/plain": [
       "<Figure size 864x194.4 with 1 Axes>"
      ]
     },
     "metadata": {
      "needs_background": "light"
     },
     "output_type": "display_data"
    }
   ],
   "source": [
    "plt.figure(figsize=(12,2.7))\n",
    "plt.subplot(122)\n",
    "plot_decision_boundary(clf, 0, 5.5)\n",
    "plt.plot(X[:, 0][y==1], X[:, 1][y==1], \"bs\", label=\"Iris-Versicolor\")\n",
    "plt.plot(X[:, 0][y==0], X[:, 1][y==0], \"yo\", label=\"Iris-Setosa\")\n",
    "plt.xlabel(\"Petal length\", fontsize=14)\n",
    "plt.ylabel(\"Petal width\", fontsize=14)\n",
    "plt.legend(loc=\"upper left\", fontsize=14)\n",
    "plt.axis([0, 5.5, 0, 2])\n",
    "\n",
    "plt.show()\n"
   ]
  }
 ],
 "metadata": {
  "kernelspec": {
   "display_name": "Python 3",
   "language": "python",
   "name": "python3"
  },
  "language_info": {
   "codemirror_mode": {
    "name": "ipython",
    "version": 3
   },
   "file_extension": ".py",
   "mimetype": "text/x-python",
   "name": "python",
   "nbconvert_exporter": "python",
   "pygments_lexer": "ipython3",
   "version": "3.7.3"
  }
 },
 "nbformat": 4,
 "nbformat_minor": 2
}
